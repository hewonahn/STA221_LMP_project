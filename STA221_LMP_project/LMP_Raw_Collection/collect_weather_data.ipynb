{
 "cells": [
  {
   "cell_type": "code",
   "execution_count": 7,
   "id": "448086dd-e3e5-4387-9141-a97ab89a6836",
   "metadata": {},
   "outputs": [],
   "source": [
    "import pandas as pd\n",
    "from meteostat import Stations"
   ]
  },
  {
   "cell_type": "code",
   "execution_count": 8,
   "id": "78590e18-f502-4e6d-844c-62d1656f5118",
   "metadata": {},
   "outputs": [],
   "source": [
    "nodes_df = pd.read_csv('Data/nodes_i5.csv')"
   ]
  },
  {
   "cell_type": "code",
   "execution_count": 31,
   "id": "e8469018-96fc-46aa-ad5c-6ad3b046d65c",
   "metadata": {},
   "outputs": [],
   "source": [
    "weather_stations = []\n",
    "\n",
    "for _, row in nodes_df.iterrows():\n",
    "    stations = Stations()\n",
    "    stations = stations.nearby(row['latitude'], row['longitude'])\n",
    "    station = stations.fetch(1)\n",
    "    \n",
    "    # Extract the station name (id) if available, otherwise add None\n",
    "    station_name = station.iloc[0].name if not station.empty else None\n",
    "    weather_stations.append(station_name)\n",
    "\n",
    "nodes_df['weather station'] = weather_stations"
   ]
  },
  {
   "cell_type": "code",
   "execution_count": 34,
   "id": "21230469-43b0-42c6-9103-04a578af7002",
   "metadata": {},
   "outputs": [],
   "source": [
    "nodes_df.to_csv('weather_stations.csv')"
   ]
  },
  {
   "cell_type": "code",
   "execution_count": 36,
   "id": "89e176d6-4307-4f97-af60-2f0e9b671692",
   "metadata": {},
   "outputs": [],
   "source": [
    "stations_to_get = nodes_df['weather station'].unique()"
   ]
  },
  {
   "cell_type": "code",
   "execution_count": 41,
   "id": "91f360e0-31ae-4704-92db-78f810d1d6e9",
   "metadata": {},
   "outputs": [],
   "source": [
    "from datetime import datetime\n",
    "from meteostat import Hourly"
   ]
  },
  {
   "cell_type": "code",
   "execution_count": 59,
   "id": "8b2df99e-3034-4ede-9ca2-27a785e6d5b3",
   "metadata": {},
   "outputs": [],
   "source": [
    "start = datetime(2022, 1, 1)\n",
    "end = datetime(2024, 11, 11, 23, 59)\n"
   ]
  },
  {
   "cell_type": "code",
   "execution_count": 62,
   "id": "db9e0021-5005-429b-9ab3-038f074cb96d",
   "metadata": {},
   "outputs": [
    {
     "name": "stderr",
     "output_type": "stream",
     "text": [
      "FutureWarning: The behavior of array concatenation with empty entries is deprecated. In a future version, this will no longer exclude empty items when determining the result dtype. To retain the old behavior, exclude the empty entries before the concat operation.\n",
      "FutureWarning: The behavior of DataFrame concatenation with empty or all-NA entries is deprecated. In a future version, this will no longer exclude empty or all-NA columns when determining the result dtypes. To retain the old behavior, exclude the relevant entries before the concat operation.\n",
      "FutureWarning: The behavior of array concatenation with empty entries is deprecated. In a future version, this will no longer exclude empty items when determining the result dtype. To retain the old behavior, exclude the empty entries before the concat operation.\n",
      "FutureWarning: The behavior of DataFrame concatenation with empty or all-NA entries is deprecated. In a future version, this will no longer exclude empty or all-NA columns when determining the result dtypes. To retain the old behavior, exclude the relevant entries before the concat operation.\n",
      "FutureWarning: The behavior of array concatenation with empty entries is deprecated. In a future version, this will no longer exclude empty items when determining the result dtype. To retain the old behavior, exclude the empty entries before the concat operation.\n",
      "FutureWarning: The behavior of DataFrame concatenation with empty or all-NA entries is deprecated. In a future version, this will no longer exclude empty or all-NA columns when determining the result dtypes. To retain the old behavior, exclude the relevant entries before the concat operation.\n",
      "FutureWarning: The behavior of array concatenation with empty entries is deprecated. In a future version, this will no longer exclude empty items when determining the result dtype. To retain the old behavior, exclude the empty entries before the concat operation.\n",
      "FutureWarning: The behavior of DataFrame concatenation with empty or all-NA entries is deprecated. In a future version, this will no longer exclude empty or all-NA columns when determining the result dtypes. To retain the old behavior, exclude the relevant entries before the concat operation.\n",
      "FutureWarning: The behavior of array concatenation with empty entries is deprecated. In a future version, this will no longer exclude empty items when determining the result dtype. To retain the old behavior, exclude the empty entries before the concat operation.\n",
      "FutureWarning: The behavior of DataFrame concatenation with empty or all-NA entries is deprecated. In a future version, this will no longer exclude empty or all-NA columns when determining the result dtypes. To retain the old behavior, exclude the relevant entries before the concat operation.\n"
     ]
    }
   ],
   "source": [
    "weather_data_complete = pd.DataFrame()\n",
    "\n",
    "for station in stations_to_get:\n",
    "    # Fetch hourly weather data for the station\n",
    "    weather = Hourly(station, start, end)\n",
    "    data = weather.fetch()\n",
    "    \n",
    "    # Add the station ID as a new column\n",
    "    data['station_id'] = station\n",
    "    \n",
    "    # Append to the main DataFrame\n",
    "    weather_data_complete = pd.concat([weather_data_complete, data], ignore_index=False)"
   ]
  },
  {
   "cell_type": "code",
   "execution_count": 64,
   "id": "63804744-3111-4085-a86a-8cd73b9acb60",
   "metadata": {},
   "outputs": [],
   "source": [
    "#Exporting weather data\n",
    "weather_data_complete.to_csv(\"weather_data.csv\")"
   ]
  }
 ],
 "metadata": {
  "kernelspec": {
   "display_name": "Python 3.12.7 (myenv)",
   "language": "python",
   "name": "myenv"
  },
  "language_info": {
   "codemirror_mode": {
    "name": "ipython",
    "version": 3
   },
   "file_extension": ".py",
   "mimetype": "text/x-python",
   "name": "python",
   "nbconvert_exporter": "python",
   "pygments_lexer": "ipython3",
   "version": "3.12.7"
  }
 },
 "nbformat": 4,
 "nbformat_minor": 5
}
